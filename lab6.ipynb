{
 "cells": [
  {
   "cell_type": "code",
   "execution_count": 1,
   "metadata": {
    "id": "uEEECO0YuBne"
   },
   "outputs": [],
   "source": [
    "import torch\n",
    "import torch.nn as nn\n",
    "from torch.optim import Adam\n",
    "import torch.optim as optim\n",
    "from torch.utils.data import DataLoader, Dataset\n",
    "from torch.utils.tensorboard import SummaryWriter\n",
    "import pandas as pd\n",
    "import os\n",
    "from tqdm import *\n",
    "import matplotlib.pyplot as plt\n",
    "from sklearn.metrics import mean_squared_error\n",
    "import pmdarima as pm\n",
    "import numpy as np\n",
    "%matplotlib inline"
   ]
  },
  {
   "attachments": {},
   "cell_type": "markdown",
   "metadata": {
    "id": "JH_bS6dMuBni"
   },
   "source": [
    "## Готовим данные\n",
    "Три файла с данными\n",
    "1. исторические данные - train\n",
    "2. Тестовые данные текущего момента - derived\n",
    "3. Пример сабмита резкльтатов конкурса на кагле"
   ]
  },
  {
   "cell_type": "code",
   "execution_count": 2,
   "metadata": {
    "id": "p8kTWpXbuBnj"
   },
   "outputs": [],
   "source": [
    "def read_set(file):\n",
    "    data = pd.read_csv(file)\n",
    "    data['date'] = pd.to_datetime(data['date'])\n",
    "    data = data.rename(columns = {'DATE':'date'})\n",
    "    data = data.rename(columns = {'hits':'value'})\n",
    "    data = data.set_index('date')\n",
    "    return data"
   ]
  },
  {
   "cell_type": "code",
   "execution_count": 3,
   "metadata": {
    "id": "0uRKsNPHuBnj",
    "outputId": "87ec8102-587b-43ee-c33b-0361e316767c"
   },
   "outputs": [
    {
     "data": {
      "text/html": [
       "<div>\n",
       "<style scoped>\n",
       "    .dataframe tbody tr th:only-of-type {\n",
       "        vertical-align: middle;\n",
       "    }\n",
       "\n",
       "    .dataframe tbody tr th {\n",
       "        vertical-align: top;\n",
       "    }\n",
       "\n",
       "    .dataframe thead th {\n",
       "        text-align: right;\n",
       "    }\n",
       "</style>\n",
       "<table border=\"1\" class=\"dataframe\">\n",
       "  <thead>\n",
       "    <tr style=\"text-align: right;\">\n",
       "      <th></th>\n",
       "      <th>date</th>\n",
       "      <th>hits</th>\n",
       "    </tr>\n",
       "  </thead>\n",
       "  <tbody>\n",
       "    <tr>\n",
       "      <th>0</th>\n",
       "      <td>2016-01-01</td>\n",
       "      <td>201979088</td>\n",
       "    </tr>\n",
       "    <tr>\n",
       "      <th>1</th>\n",
       "      <td>2016-01-02</td>\n",
       "      <td>223095158</td>\n",
       "    </tr>\n",
       "    <tr>\n",
       "      <th>2</th>\n",
       "      <td>2016-01-03</td>\n",
       "      <td>233791442</td>\n",
       "    </tr>\n",
       "    <tr>\n",
       "      <th>3</th>\n",
       "      <td>2016-01-04</td>\n",
       "      <td>259684220</td>\n",
       "    </tr>\n",
       "    <tr>\n",
       "      <th>4</th>\n",
       "      <td>2016-01-05</td>\n",
       "      <td>267112490</td>\n",
       "    </tr>\n",
       "    <tr>\n",
       "      <th>...</th>\n",
       "      <td>...</td>\n",
       "      <td>...</td>\n",
       "    </tr>\n",
       "    <tr>\n",
       "      <th>1091</th>\n",
       "      <td>2018-12-27</td>\n",
       "      <td>241134980</td>\n",
       "    </tr>\n",
       "    <tr>\n",
       "      <th>1092</th>\n",
       "      <td>2018-12-28</td>\n",
       "      <td>234865040</td>\n",
       "    </tr>\n",
       "    <tr>\n",
       "      <th>1093</th>\n",
       "      <td>2018-12-29</td>\n",
       "      <td>195884690</td>\n",
       "    </tr>\n",
       "    <tr>\n",
       "      <th>1094</th>\n",
       "      <td>2018-12-30</td>\n",
       "      <td>125587958</td>\n",
       "    </tr>\n",
       "    <tr>\n",
       "      <th>1095</th>\n",
       "      <td>2018-12-31</td>\n",
       "      <td>110355560</td>\n",
       "    </tr>\n",
       "  </tbody>\n",
       "</table>\n",
       "<p>1096 rows × 2 columns</p>\n",
       "</div>"
      ],
      "text/plain": [
       "            date       hits\n",
       "0     2016-01-01  201979088\n",
       "1     2016-01-02  223095158\n",
       "2     2016-01-03  233791442\n",
       "3     2016-01-04  259684220\n",
       "4     2016-01-05  267112490\n",
       "...          ...        ...\n",
       "1091  2018-12-27  241134980\n",
       "1092  2018-12-28  234865040\n",
       "1093  2018-12-29  195884690\n",
       "1094  2018-12-30  125587958\n",
       "1095  2018-12-31  110355560\n",
       "\n",
       "[1096 rows x 2 columns]"
      ]
     },
     "execution_count": 3,
     "metadata": {},
     "output_type": "execute_result"
    }
   ],
   "source": [
    "data = pd.read_csv('train.csv')\n",
    "data"
   ]
  },
  {
   "cell_type": "code",
   "execution_count": 4,
   "metadata": {
    "id": "6OVbPx2AuBnk"
   },
   "outputs": [],
   "source": [
    "data_train = read_set('train.csv')\n",
    "data_test =  read_set('derived.csv')\n",
    "data_sample = read_set('sample_submission.csv')"
   ]
  },
  {
   "cell_type": "code",
   "execution_count": 5,
   "metadata": {
    "id": "lH--5idfuBnl",
    "outputId": "aecebe29-a1a7-4deb-e2df-d320e3f533f2"
   },
   "outputs": [
    {
     "data": {
      "text/html": [
       "<div>\n",
       "<style scoped>\n",
       "    .dataframe tbody tr th:only-of-type {\n",
       "        vertical-align: middle;\n",
       "    }\n",
       "\n",
       "    .dataframe tbody tr th {\n",
       "        vertical-align: top;\n",
       "    }\n",
       "\n",
       "    .dataframe thead th {\n",
       "        text-align: right;\n",
       "    }\n",
       "</style>\n",
       "<table border=\"1\" class=\"dataframe\">\n",
       "  <thead>\n",
       "    <tr style=\"text-align: right;\">\n",
       "      <th></th>\n",
       "      <th>value</th>\n",
       "    </tr>\n",
       "    <tr>\n",
       "      <th>date</th>\n",
       "      <th></th>\n",
       "    </tr>\n",
       "  </thead>\n",
       "  <tbody>\n",
       "    <tr>\n",
       "      <th>2016-01-01</th>\n",
       "      <td>201979088</td>\n",
       "    </tr>\n",
       "    <tr>\n",
       "      <th>2016-01-02</th>\n",
       "      <td>223095158</td>\n",
       "    </tr>\n",
       "    <tr>\n",
       "      <th>2016-01-03</th>\n",
       "      <td>233791442</td>\n",
       "    </tr>\n",
       "    <tr>\n",
       "      <th>2016-01-04</th>\n",
       "      <td>259684220</td>\n",
       "    </tr>\n",
       "    <tr>\n",
       "      <th>2016-01-05</th>\n",
       "      <td>267112490</td>\n",
       "    </tr>\n",
       "    <tr>\n",
       "      <th>...</th>\n",
       "      <td>...</td>\n",
       "    </tr>\n",
       "    <tr>\n",
       "      <th>2018-12-27</th>\n",
       "      <td>241134980</td>\n",
       "    </tr>\n",
       "    <tr>\n",
       "      <th>2018-12-28</th>\n",
       "      <td>234865040</td>\n",
       "    </tr>\n",
       "    <tr>\n",
       "      <th>2018-12-29</th>\n",
       "      <td>195884690</td>\n",
       "    </tr>\n",
       "    <tr>\n",
       "      <th>2018-12-30</th>\n",
       "      <td>125587958</td>\n",
       "    </tr>\n",
       "    <tr>\n",
       "      <th>2018-12-31</th>\n",
       "      <td>110355560</td>\n",
       "    </tr>\n",
       "  </tbody>\n",
       "</table>\n",
       "<p>1096 rows × 1 columns</p>\n",
       "</div>"
      ],
      "text/plain": [
       "                value\n",
       "date                 \n",
       "2016-01-01  201979088\n",
       "2016-01-02  223095158\n",
       "2016-01-03  233791442\n",
       "2016-01-04  259684220\n",
       "2016-01-05  267112490\n",
       "...               ...\n",
       "2018-12-27  241134980\n",
       "2018-12-28  234865040\n",
       "2018-12-29  195884690\n",
       "2018-12-30  125587958\n",
       "2018-12-31  110355560\n",
       "\n",
       "[1096 rows x 1 columns]"
      ]
     },
     "execution_count": 5,
     "metadata": {},
     "output_type": "execute_result"
    }
   ],
   "source": [
    "data_train"
   ]
  },
  {
   "attachments": {},
   "cell_type": "markdown",
   "metadata": {
    "id": "iIq5yUNbuBnl"
   },
   "source": [
    "### Проверим наши данные, что мы загрузили"
   ]
  },
  {
   "cell_type": "code",
   "execution_count": 6,
   "metadata": {
    "id": "9yIzV1K6uBnm",
    "outputId": "cb19d7e8-9110-44ea-f8d0-c7a0da256e87"
   },
   "outputs": [
    {
     "name": "stdout",
     "output_type": "stream",
     "text": [
      "<class 'pandas.core.frame.DataFrame'>\n",
      "DatetimeIndex: 1096 entries, 2016-01-01 to 2018-12-31\n",
      "Data columns (total 1 columns):\n",
      " #   Column  Non-Null Count  Dtype\n",
      "---  ------  --------------  -----\n",
      " 0   value   1096 non-null   int64\n",
      "dtypes: int64(1)\n",
      "memory usage: 17.1 KB\n",
      "None\n",
      "<class 'pandas.core.frame.DataFrame'>\n",
      "DatetimeIndex: 365 entries, 2019-01-01 to 2019-12-31\n",
      "Data columns (total 1 columns):\n",
      " #   Column  Non-Null Count  Dtype\n",
      "---  ------  --------------  -----\n",
      " 0   value   365 non-null    int64\n",
      "dtypes: int64(1)\n",
      "memory usage: 5.7 KB\n",
      "None\n",
      "<class 'pandas.core.frame.DataFrame'>\n",
      "DatetimeIndex: 365 entries, 2019-01-01 to 2019-12-31\n",
      "Data columns (total 1 columns):\n",
      " #   Column  Non-Null Count  Dtype\n",
      "---  ------  --------------  -----\n",
      " 0   value   365 non-null    int64\n",
      "dtypes: int64(1)\n",
      "memory usage: 5.7 KB\n",
      "None\n"
     ]
    }
   ],
   "source": [
    "print( data_train.info() )\n",
    "print( data_test.info() )\n",
    "print( data_sample.info() )"
   ]
  },
  {
   "cell_type": "code",
   "execution_count": 7,
   "metadata": {
    "id": "xjLwJ4x2uBnm",
    "outputId": "0d735330-e912-427b-f774-eb2210848c11"
   },
   "outputs": [
    {
     "data": {
      "text/html": [
       "<div>\n",
       "<style scoped>\n",
       "    .dataframe tbody tr th:only-of-type {\n",
       "        vertical-align: middle;\n",
       "    }\n",
       "\n",
       "    .dataframe tbody tr th {\n",
       "        vertical-align: top;\n",
       "    }\n",
       "\n",
       "    .dataframe thead th {\n",
       "        text-align: right;\n",
       "    }\n",
       "</style>\n",
       "<table border=\"1\" class=\"dataframe\">\n",
       "  <thead>\n",
       "    <tr style=\"text-align: right;\">\n",
       "      <th></th>\n",
       "      <th>value</th>\n",
       "    </tr>\n",
       "  </thead>\n",
       "  <tbody>\n",
       "    <tr>\n",
       "      <th>count</th>\n",
       "      <td>1.096000e+03</td>\n",
       "    </tr>\n",
       "    <tr>\n",
       "      <th>mean</th>\n",
       "      <td>2.792255e+08</td>\n",
       "    </tr>\n",
       "    <tr>\n",
       "      <th>std</th>\n",
       "      <td>7.677884e+07</td>\n",
       "    </tr>\n",
       "    <tr>\n",
       "      <th>min</th>\n",
       "      <td>1.103556e+08</td>\n",
       "    </tr>\n",
       "    <tr>\n",
       "      <th>25%</th>\n",
       "      <td>2.317301e+08</td>\n",
       "    </tr>\n",
       "    <tr>\n",
       "      <th>50%</th>\n",
       "      <td>2.791131e+08</td>\n",
       "    </tr>\n",
       "    <tr>\n",
       "      <th>75%</th>\n",
       "      <td>3.287730e+08</td>\n",
       "    </tr>\n",
       "    <tr>\n",
       "      <th>max</th>\n",
       "      <td>4.550733e+08</td>\n",
       "    </tr>\n",
       "  </tbody>\n",
       "</table>\n",
       "</div>"
      ],
      "text/plain": [
       "              value\n",
       "count  1.096000e+03\n",
       "mean   2.792255e+08\n",
       "std    7.677884e+07\n",
       "min    1.103556e+08\n",
       "25%    2.317301e+08\n",
       "50%    2.791131e+08\n",
       "75%    3.287730e+08\n",
       "max    4.550733e+08"
      ]
     },
     "execution_count": 7,
     "metadata": {},
     "output_type": "execute_result"
    }
   ],
   "source": [
    "data_train.describe()"
   ]
  },
  {
   "cell_type": "code",
   "execution_count": 8,
   "metadata": {
    "id": "2MjZPYYtuBnn",
    "outputId": "8f8981fa-32fc-4cbc-9af1-1ded3bd95c94"
   },
   "outputs": [
    {
     "data": {
      "text/html": [
       "<div>\n",
       "<style scoped>\n",
       "    .dataframe tbody tr th:only-of-type {\n",
       "        vertical-align: middle;\n",
       "    }\n",
       "\n",
       "    .dataframe tbody tr th {\n",
       "        vertical-align: top;\n",
       "    }\n",
       "\n",
       "    .dataframe thead th {\n",
       "        text-align: right;\n",
       "    }\n",
       "</style>\n",
       "<table border=\"1\" class=\"dataframe\">\n",
       "  <thead>\n",
       "    <tr style=\"text-align: right;\">\n",
       "      <th></th>\n",
       "      <th>value</th>\n",
       "    </tr>\n",
       "  </thead>\n",
       "  <tbody>\n",
       "    <tr>\n",
       "      <th>count</th>\n",
       "      <td>3.650000e+02</td>\n",
       "    </tr>\n",
       "    <tr>\n",
       "      <th>mean</th>\n",
       "      <td>2.250691e+08</td>\n",
       "    </tr>\n",
       "    <tr>\n",
       "      <th>std</th>\n",
       "      <td>6.798229e+07</td>\n",
       "    </tr>\n",
       "    <tr>\n",
       "      <th>min</th>\n",
       "      <td>1.055197e+08</td>\n",
       "    </tr>\n",
       "    <tr>\n",
       "      <th>25%</th>\n",
       "      <td>1.467913e+08</td>\n",
       "    </tr>\n",
       "    <tr>\n",
       "      <th>50%</th>\n",
       "      <td>2.525773e+08</td>\n",
       "    </tr>\n",
       "    <tr>\n",
       "      <th>75%</th>\n",
       "      <td>2.724223e+08</td>\n",
       "    </tr>\n",
       "    <tr>\n",
       "      <th>max</th>\n",
       "      <td>3.410300e+08</td>\n",
       "    </tr>\n",
       "  </tbody>\n",
       "</table>\n",
       "</div>"
      ],
      "text/plain": [
       "              value\n",
       "count  3.650000e+02\n",
       "mean   2.250691e+08\n",
       "std    6.798229e+07\n",
       "min    1.055197e+08\n",
       "25%    1.467913e+08\n",
       "50%    2.525773e+08\n",
       "75%    2.724223e+08\n",
       "max    3.410300e+08"
      ]
     },
     "execution_count": 8,
     "metadata": {},
     "output_type": "execute_result"
    }
   ],
   "source": [
    "data_test.describe()"
   ]
  },
  {
   "cell_type": "code",
   "execution_count": 9,
   "metadata": {
    "id": "E7FsVj5XuBnn",
    "outputId": "d0c9e11e-5336-4a07-f725-5cfe0a3180b1"
   },
   "outputs": [
    {
     "data": {
      "text/html": [
       "<div>\n",
       "<style scoped>\n",
       "    .dataframe tbody tr th:only-of-type {\n",
       "        vertical-align: middle;\n",
       "    }\n",
       "\n",
       "    .dataframe tbody tr th {\n",
       "        vertical-align: top;\n",
       "    }\n",
       "\n",
       "    .dataframe thead th {\n",
       "        text-align: right;\n",
       "    }\n",
       "</style>\n",
       "<table border=\"1\" class=\"dataframe\">\n",
       "  <thead>\n",
       "    <tr style=\"text-align: right;\">\n",
       "      <th></th>\n",
       "      <th>value</th>\n",
       "    </tr>\n",
       "  </thead>\n",
       "  <tbody>\n",
       "    <tr>\n",
       "      <th>count</th>\n",
       "      <td>365.0</td>\n",
       "    </tr>\n",
       "    <tr>\n",
       "      <th>mean</th>\n",
       "      <td>110355560.0</td>\n",
       "    </tr>\n",
       "    <tr>\n",
       "      <th>std</th>\n",
       "      <td>0.0</td>\n",
       "    </tr>\n",
       "    <tr>\n",
       "      <th>min</th>\n",
       "      <td>110355560.0</td>\n",
       "    </tr>\n",
       "    <tr>\n",
       "      <th>25%</th>\n",
       "      <td>110355560.0</td>\n",
       "    </tr>\n",
       "    <tr>\n",
       "      <th>50%</th>\n",
       "      <td>110355560.0</td>\n",
       "    </tr>\n",
       "    <tr>\n",
       "      <th>75%</th>\n",
       "      <td>110355560.0</td>\n",
       "    </tr>\n",
       "    <tr>\n",
       "      <th>max</th>\n",
       "      <td>110355560.0</td>\n",
       "    </tr>\n",
       "  </tbody>\n",
       "</table>\n",
       "</div>"
      ],
      "text/plain": [
       "             value\n",
       "count        365.0\n",
       "mean   110355560.0\n",
       "std            0.0\n",
       "min    110355560.0\n",
       "25%    110355560.0\n",
       "50%    110355560.0\n",
       "75%    110355560.0\n",
       "max    110355560.0"
      ]
     },
     "execution_count": 9,
     "metadata": {},
     "output_type": "execute_result"
    }
   ],
   "source": [
    "data_sample.describe()"
   ]
  },
  {
   "attachments": {},
   "cell_type": "markdown",
   "metadata": {
    "id": "9Rp9XYUiuBnn"
   },
   "source": [
    "## Графики наших временных последовательностей"
   ]
  },
  {
   "cell_type": "code",
   "execution_count": 10,
   "metadata": {
    "id": "XJdvc9jquBno",
    "outputId": "89a76f32-8a64-4c3a-bd6b-923535f22dc1"
   },
   "outputs": [
    {
     "data": {
      "image/png": "[encoded data removed]",
      "text/plain": [
       "<Figure size 432x288 with 1 Axes>"
      ]
     },
     "metadata": {
      "needs_background": "light"
     },
     "output_type": "display_data"
    }
   ],
   "source": [
    "plt.figure()\n",
    "data_train['value'].plot(kind = 'line')\n",
    "data_test['value'].plot(kind = 'line')\n",
    "data_sample['value'].plot(kind = 'line')\n",
    "plt.show()"
   ]
  },
  {
   "attachments": {},
   "cell_type": "markdown",
   "metadata": {
    "id": "K7dCXMqvuBno"
   },
   "source": [
    "## Статистическая модель [ARIMA](https://ru.wikipedia.org/wiki/ARIMA)\n"
   ]
  },
  {
   "cell_type": "code",
   "execution_count": 11,
   "metadata": {
    "id": "rDNpiApvuBno",
    "outputId": "6619be94-2603-4d5c-dc30-99fe533c478e"
   },
   "outputs": [
    {
     "name": "stdout",
     "output_type": "stream",
     "text": [
      "Performing stepwise search to minimize aic\n",
      " ARIMA(2,0,2)(1,0,1)[4] intercept   : AIC=42026.193, Time=1.61 sec\n",
      " ARIMA(0,0,0)(0,0,0)[4] intercept   : AIC=42912.228, Time=0.04 sec\n",
      " ARIMA(1,0,0)(1,0,0)[4] intercept   : AIC=42352.663, Time=0.69 sec\n",
      " ARIMA(0,0,1)(0,0,1)[4] intercept   : AIC=42271.764, Time=0.29 sec\n",
      " ARIMA(0,0,0)(0,0,0)[4]             : AIC=45821.113, Time=0.02 sec\n",
      " ARIMA(2,0,2)(0,0,1)[4] intercept   : AIC=42138.118, Time=0.73 sec\n",
      " ARIMA(2,0,2)(1,0,0)[4] intercept   : AIC=42130.455, Time=1.78 sec\n",
      " ARIMA(2,0,2)(2,0,1)[4] intercept   : AIC=41842.461, Time=2.95 sec\n",
      " ARIMA(2,0,2)(2,0,0)[4] intercept   : AIC=42088.126, Time=3.14 sec\n",
      " ARIMA(2,0,2)(2,0,2)[4] intercept   : AIC=41829.133, Time=6.16 sec\n",
      " ARIMA(2,0,2)(1,0,2)[4] intercept   : AIC=42095.534, Time=6.51 sec\n",
      " ARIMA(1,0,2)(2,0,2)[4] intercept   : AIC=42117.810, Time=4.72 sec\n",
      " ARIMA(2,0,1)(2,0,2)[4] intercept   : AIC=42107.831, Time=3.91 sec\n",
      " ARIMA(3,0,2)(2,0,2)[4] intercept   : AIC=41841.292, Time=10.80 sec\n",
      " ARIMA(2,0,3)(2,0,2)[4] intercept   : AIC=41571.862, Time=8.40 sec\n",
      " ARIMA(2,0,3)(1,0,2)[4] intercept   : AIC=41596.363, Time=7.72 sec\n",
      " ARIMA(2,0,3)(2,0,1)[4] intercept   : AIC=41537.414, Time=6.58 sec\n",
      " ARIMA(2,0,3)(1,0,1)[4] intercept   : AIC=41538.058, Time=5.65 sec\n",
      " ARIMA(2,0,3)(2,0,0)[4] intercept   : AIC=41563.847, Time=7.07 sec\n",
      " ARIMA(2,0,3)(1,0,0)[4] intercept   : AIC=41589.822, Time=4.46 sec\n",
      " ARIMA(1,0,3)(2,0,1)[4] intercept   : AIC=42079.018, Time=6.32 sec\n",
      " ARIMA(3,0,3)(2,0,1)[4] intercept   : AIC=inf, Time=7.94 sec\n",
      " ARIMA(1,0,2)(2,0,1)[4] intercept   : AIC=42087.935, Time=3.47 sec\n",
      " ARIMA(3,0,2)(2,0,1)[4] intercept   : AIC=inf, Time=6.67 sec\n",
      " ARIMA(2,0,3)(2,0,1)[4]             : AIC=inf, Time=nan sec\n",
      "\n",
      "Best model:  ARIMA(2,0,3)(2,0,1)[4] intercept\n",
      "Total fit time: 116.815 seconds\n"
     ]
    }
   ],
   "source": [
    "# обучаем модель\n",
    "arima_model=model = pm.auto_arima(data_train, seasonal = True,m = 4,test='adf',error_action='ignore',  \n",
    "                           suppress_warnings=True,\n",
    "                      stepwise=True, trace=True)"
   ]
  },
  {
   "cell_type": "code",
   "execution_count": 12,
   "metadata": {
    "id": "_08RxylDuBnp"
   },
   "outputs": [],
   "source": [
    "prediction = pd.DataFrame(model.predict(n_periods = int(data_test.size)), data_test.index)"
   ]
  },
  {
   "cell_type": "code",
   "execution_count": 13,
   "metadata": {
    "id": "vQ71s0gYuBnp",
    "outputId": "7872933b-49a4-45cf-db5b-fd07ffe3baeb"
   },
   "outputs": [
    {
     "data": {
      "text/html": [
       "<div>\n",
       "<style scoped>\n",
       "    .dataframe tbody tr th:only-of-type {\n",
       "        vertical-align: middle;\n",
       "    }\n",
       "\n",
       "    .dataframe tbody tr th {\n",
       "        vertical-align: top;\n",
       "    }\n",
       "\n",
       "    .dataframe thead th {\n",
       "        text-align: right;\n",
       "    }\n",
       "</style>\n",
       "<table border=\"1\" class=\"dataframe\">\n",
       "  <thead>\n",
       "    <tr style=\"text-align: right;\">\n",
       "      <th></th>\n",
       "      <th>0</th>\n",
       "    </tr>\n",
       "    <tr>\n",
       "      <th>date</th>\n",
       "      <th></th>\n",
       "    </tr>\n",
       "  </thead>\n",
       "  <tbody>\n",
       "    <tr>\n",
       "      <th>2019-01-01</th>\n",
       "      <td>2.192316e+08</td>\n",
       "    </tr>\n",
       "    <tr>\n",
       "      <th>2019-01-02</th>\n",
       "      <td>2.716804e+08</td>\n",
       "    </tr>\n",
       "    <tr>\n",
       "      <th>2019-01-03</th>\n",
       "      <td>2.327291e+08</td>\n",
       "    </tr>\n",
       "    <tr>\n",
       "      <th>2019-01-04</th>\n",
       "      <td>1.703579e+08</td>\n",
       "    </tr>\n",
       "    <tr>\n",
       "      <th>2019-01-05</th>\n",
       "      <td>2.181284e+08</td>\n",
       "    </tr>\n",
       "    <tr>\n",
       "      <th>...</th>\n",
       "      <td>...</td>\n",
       "    </tr>\n",
       "    <tr>\n",
       "      <th>2019-12-27</th>\n",
       "      <td>2.748540e+08</td>\n",
       "    </tr>\n",
       "    <tr>\n",
       "      <th>2019-12-28</th>\n",
       "      <td>2.738288e+08</td>\n",
       "    </tr>\n",
       "    <tr>\n",
       "      <th>2019-12-29</th>\n",
       "      <td>2.732848e+08</td>\n",
       "    </tr>\n",
       "    <tr>\n",
       "      <th>2019-12-30</th>\n",
       "      <td>2.736171e+08</td>\n",
       "    </tr>\n",
       "    <tr>\n",
       "      <th>2019-12-31</th>\n",
       "      <td>2.745599e+08</td>\n",
       "    </tr>\n",
       "  </tbody>\n",
       "</table>\n",
       "<p>365 rows × 1 columns</p>\n",
       "</div>"
      ],
      "text/plain": [
       "                       0\n",
       "date                    \n",
       "2019-01-01  2.192316e+08\n",
       "2019-01-02  2.716804e+08\n",
       "2019-01-03  2.327291e+08\n",
       "2019-01-04  1.703579e+08\n",
       "2019-01-05  2.181284e+08\n",
       "...                  ...\n",
       "2019-12-27  2.748540e+08\n",
       "2019-12-28  2.738288e+08\n",
       "2019-12-29  2.732848e+08\n",
       "2019-12-30  2.736171e+08\n",
       "2019-12-31  2.745599e+08\n",
       "\n",
       "[365 rows x 1 columns]"
      ]
     },
     "execution_count": 13,
     "metadata": {},
     "output_type": "execute_result"
    }
   ],
   "source": [
    "prediction"
   ]
  },
  {
   "cell_type": "code",
   "execution_count": 14,
   "metadata": {
    "id": "5QmYi5qKuBnp"
   },
   "outputs": [],
   "source": [
    "prediction = prediction .rename(columns = {0:'value'})"
   ]
  },
  {
   "attachments": {},
   "cell_type": "markdown",
   "metadata": {
    "id": "-r6Ohi40uBnp"
   },
   "source": [
    "смотрим, что она нам предсказала"
   ]
  },
  {
   "cell_type": "code",
   "execution_count": 15,
   "metadata": {
    "id": "Q2SKMROIuBnq",
    "outputId": "94595eeb-268e-41da-e9aa-dcb0c9bef2ff"
   },
   "outputs": [
    {
     "data": {
      "image/png": "[encoded data removed]",
      "text/plain": [
       "<Figure size 432x288 with 1 Axes>"
      ]
     },
     "metadata": {
      "needs_background": "light"
     },
     "output_type": "display_data"
    }
   ],
   "source": [
    "plt.figure()\n",
    "data_train['value'].plot(kind = 'line')\n",
    "data_test['value'].plot(kind = 'line')\n",
    "#plt.plot(data_forecaste, label = \"Prediction\")\n",
    "prediction['value'].plot(kind = 'line')\n",
    "plt.show()"
   ]
  },
  {
   "attachments": {},
   "cell_type": "markdown",
   "metadata": {
    "id": "u11PbAj5uBnq"
   },
   "source": [
    "### Функция подсчета метрик для конкурса"
   ]
  },
  {
   "cell_type": "code",
   "execution_count": 16,
   "metadata": {
    "id": "bgRyXaSwuBnq"
   },
   "outputs": [],
   "source": [
    "def MAPE(y_true, y_pred):\n",
    "    mape = np.abs(y_pred - y_true) / np.maximum(np.abs(y_true), 1e-6)\n",
    "    mape  = np.average(mape) * 100\n",
    "    return mape"
   ]
  },
  {
   "attachments": {},
   "cell_type": "markdown",
   "metadata": {
    "id": "gTiHTMO_uBnq"
   },
   "source": [
    "### MAPE для ARIMA и тестового сабмишена"
   ]
  },
  {
   "cell_type": "code",
   "execution_count": 17,
   "metadata": {
    "id": "qfBVIBa7uBnr",
    "outputId": "2072eb79-3b44-4aef-a4ed-f9d9546419ae"
   },
   "outputs": [
    {
     "data": {
      "text/plain": [
       "38.890305153608985"
      ]
     },
     "execution_count": 17,
     "metadata": {},
     "output_type": "execute_result"
    }
   ],
   "source": [
    "MAPE(data_test, prediction)"
   ]
  },
  {
   "cell_type": "code",
   "execution_count": 18,
   "metadata": {
    "id": "JnCLujxWuBnr",
    "outputId": "c2e79f5f-e18a-4f74-9cef-2121941fcfb2"
   },
   "outputs": [
    {
     "data": {
      "text/plain": [
       "44.81735178659308"
      ]
     },
     "execution_count": 18,
     "metadata": {},
     "output_type": "execute_result"
    }
   ],
   "source": [
    "MAPE(data_test, data_sample)"
   ]
  },
  {
   "attachments": {},
   "cell_type": "markdown",
   "metadata": {
    "id": "pwvGlHhhuBnr"
   },
   "source": [
    "## Из пандас строим датасет"
   ]
  },
  {
   "cell_type": "code",
   "execution_count": 19,
   "metadata": {
    "id": "J9wZ3_97uBnr"
   },
   "outputs": [],
   "source": [
    "class Stats:\n",
    "    def __init__(self, dataset):\n",
    "        self.mean = np.mean(dataset)\n",
    "        self.std = np.std(dataset)\n",
    "        self.data = (dataset - self.mean) / self.std \n",
    "\n",
    "stats = Stats(data_train)"
   ]
  },
  {
   "cell_type": "code",
   "execution_count": 829,
   "metadata": {
    "id": "2rSnmhoMuBnr"
   },
   "outputs": [],
   "source": [
    "class TSDataset(Dataset):\n",
    "    \n",
    "    def __init__(self, data, seq_len):\n",
    "        super().__init__()\n",
    "        self._len = len(data) - seq_len + 1 # Кол-во проходов заданным окном\n",
    "        self.mean = stats.mean \n",
    "        self.std = stats.std\n",
    "        self.data = (data- self.mean) / self.std # Нормализация\n",
    "        self.seq_len = seq_len # Длина окна\n",
    "        \n",
    "    def __len__(self):\n",
    "        return self._len\n",
    "    \n",
    "    def __getitem__(self, idx):\n",
    "        d = self.data[idx:idx + self.seq_len] # Берем последовательность датафрейма\n",
    "        targets = []\n",
    "        days   = []\n",
    "        months = []\n",
    "        year = []\n",
    "        weekday = []\n",
    "        for row in  d.iterrows(): # итератор по строкам dataframe\n",
    "            targets += [ row[1]['value'] ] # Получить value из строки\n",
    "            days += [ row[0].day ] # \n",
    "            months += [row[0].month]\n",
    "            year += [row[0].year]\n",
    "            weekday += [row[0].weekday()]\n",
    "            \n",
    "        return torch.LongTensor(days), \\\n",
    "               torch.LongTensor(months), \\\n",
    "               torch.LongTensor(weekday), \\\n",
    "               torch.FloatTensor(targets)"
   ]
  },
  {
   "cell_type": "code",
   "execution_count": 830,
   "metadata": {
    "id": "BgarH7z3uBns",
    "outputId": "e773aa2b-8110-4002-ffc0-f4659fcec4c4"
   },
   "outputs": [
    {
     "name": "stdout",
     "output_type": "stream",
     "text": [
      "1077\n"
     ]
    }
   ],
   "source": [
    "ds_train = TSDataset(data_train, 20) \n",
    "ds_test  = TSDataset(data_test, 20)\n",
    "print(len(ds_train))\n"
   ]
  },
  {
   "attachments": {},
   "cell_type": "markdown",
   "metadata": {
    "id": "5mJ3F371uBns"
   },
   "source": [
    "## Теперь нужно определить нашу модель "
   ]
  },
  {
   "cell_type": "code",
   "execution_count": 831,
   "metadata": {},
   "outputs": [],
   "source": [
    "def seed_everything(seed: int):\n",
    "    import random, os\n",
    "    import numpy as np\n",
    "    import torch\n",
    "    \n",
    "    random.seed(seed)\n",
    "    os.environ['PYTHONHASHSEED'] = str(seed)\n",
    "    np.random.seed(seed)\n",
    "    torch.manual_seed(seed)\n",
    "    torch.cuda.manual_seed(seed)\n",
    "    torch.backends.cudnn.deterministic = True\n",
    "    torch.backends.cudnn.benchmark = True\n",
    "    \n",
    "seed_everything(777)"
   ]
  },
  {
   "cell_type": "code",
   "execution_count": 832,
   "metadata": {},
   "outputs": [
    {
     "data": {
      "text/plain": [
       "1"
      ]
     },
     "execution_count": 832,
     "metadata": {},
     "output_type": "execute_result"
    }
   ],
   "source": [
    "import datetime\n",
    "ans = datetime.date(2022, 1, 4)\n",
    "ans.weekday()"
   ]
  },
  {
   "cell_type": "code",
   "execution_count": 1502,
   "metadata": {
    "id": "ofufupBBuBns"
   },
   "outputs": [],
   "source": [
    "class TimeSeriesModel(nn.Module):\n",
    "    def __init__(self, hidden_size: int, input_sizes: tuple):\n",
    "        super().__init__()\n",
    "        self.mon_emb = nn.Embedding(12+1, input_sizes[0]) # Эмбеддинги для месяцев (обучаемые)\n",
    "        self.day_emb = nn.Embedding(31+1, input_sizes[1]) # Эмбеддинги для годов (обучаемые)\n",
    "        self.weekday_emb = nn.Embedding(7, input_sizes[2])\n",
    "        self.weekend_emb = nn.Embedding(7, input_sizes[3])\n",
    "        \n",
    "        # LSTM input: Эмбеддинги годов, месяцев, значение                      \n",
    "        self._rnn = nn.LSTM(input_sizes[0] + input_sizes[1] + input_sizes[2] + input_sizes[3] + 1,\n",
    "                            hidden_size,  batch_first=True, dropout=0.3)\n",
    "        self._output = nn.Linear(hidden_size, 1)\n",
    "\n",
    "    def forward(self, batch, ctx = None):\n",
    "        days, mons, weekday, targets = batch\n",
    "        mon_tensor = self.mon_emb(mons) # batch_sz x seq_len x emb_len (8 x 20 x 4)\n",
    "        day_tensor = self.day_emb(days)\n",
    "        weekday_tensor = self.weekday_emb(weekday)\n",
    "        weekend = ((weekday == 5) | (weekday == 6))\n",
    "        weekend_tensor = self.weekend_emb(weekend.long())\n",
    "        rnn_input  = torch.cat([mon_tensor, day_tensor, weekday_tensor, weekend_tensor], dim=-1) # 8 x 20 x 8\n",
    "        targets = targets.unsqueeze(-1)\n",
    "        rnn_input = torch.cat([rnn_input, targets ], dim=-1) # 8 x 20 x 9\n",
    "        # Берем все элементы последовательности, кроме последнего, предсказание идет на 1 шаг вперед\n",
    "        rnn_input = rnn_input[:, :-1, :] if ctx is None else rnn_input # 8 x 19 x 9\n",
    "        output, ctx = self._rnn(rnn_input, ctx)\n",
    "        # 8 x 19 x 32, 1 x 8 x 32\n",
    "        # print((self._output(output)).size()) 8 x 19 x 1\n",
    "        output = self._output(output).squeeze() # 8 x 19 \n",
    "        return output, ctx        "
   ]
  },
  {
   "attachments": {},
   "cell_type": "markdown",
   "metadata": {
    "id": "5sMJF-D9uBns"
   },
   "source": [
    "### Определяем даталоадеры для теста и трейна"
   ]
  },
  {
   "cell_type": "code",
   "execution_count": 1523,
   "metadata": {
    "id": "jQy6HEiduBns"
   },
   "outputs": [
    {
     "name": "stderr",
     "output_type": "stream",
     "text": [
      "/home/fedor/.local/lib/python3.8/site-packages/torch/nn/modules/rnn.py:62: UserWarning: dropout option adds dropout after all but last recurrent layer, so non-zero dropout expects num_layers greater than 1, but got dropout=0.3 and num_layers=1\n",
      "  warnings.warn(\"dropout option adds dropout after all but last \"\n"
     ]
    }
   ],
   "source": [
    "batch_sz = 8\n",
    "hidden_size = 32\n",
    "emb_size = (3, 4, 2, 1)\n",
    "\n",
    "dl_train = DataLoader(ds_train, batch_sz , True)\n",
    "dl_test = DataLoader(ds_test, batch_sz , False)\n",
    "series_model = TimeSeriesModel(hidden_size, emb_size)"
   ]
  },
  {
   "cell_type": "code",
   "execution_count": 1524,
   "metadata": {},
   "outputs": [],
   "source": [
    "from torch.optim.lr_scheduler import ExponentialLR"
   ]
  },
  {
   "cell_type": "code",
   "execution_count": 1525,
   "metadata": {
    "id": "su4RuAdTuBnt"
   },
   "outputs": [],
   "source": [
    "loss = nn.L1Loss()\n",
    "optimizer = Adam(series_model.parameters(), lr=7e-4)# lr=5e-4)\n",
    "scheduler = ExponentialLR(optimizer, gamma=0.97)"
   ]
  },
  {
   "cell_type": "code",
   "execution_count": 1526,
   "metadata": {
    "id": "2cO-DepLuBnt"
   },
   "outputs": [],
   "source": [
    "# инициализируем тензорборд, для вывода графиков\n",
    "writer = SummaryWriter(log_dir='./rnn_hw')"
   ]
  },
  {
   "cell_type": "code",
   "execution_count": 1527,
   "metadata": {},
   "outputs": [
    {
     "data": {
      "text/plain": [
       "0.543794342926747"
      ]
     },
     "execution_count": 1527,
     "metadata": {},
     "output_type": "execute_result"
    }
   ],
   "source": [
    "0.97 ** 20"
   ]
  },
  {
   "attachments": {},
   "cell_type": "markdown",
   "metadata": {
    "id": "FGgpY23JuBnt"
   },
   "source": [
    "### Обучаем модель"
   ]
  },
  {
   "cell_type": "code",
   "execution_count": 1528,
   "metadata": {
    "id": "saddmCO5uBnt"
   },
   "outputs": [],
   "source": [
    "global_epoch = 0\n",
    "global_iter = 0"
   ]
  },
  {
   "cell_type": "code",
   "execution_count": 1529,
   "metadata": {
    "id": "d82IPrHNuBnt"
   },
   "outputs": [],
   "source": [
    "def test_model(epoch):\n",
    "    test_iter  = tqdm(dl_test)\n",
    "    sum_loss = 0\n",
    "    num_batches = 0\n",
    "    for i, batch in enumerate(test_iter):\n",
    "        # Чтобы сохранялась временная зависимость\n",
    "        # для предсказания таргет должен быть смешен на один временной шаг\n",
    "        # относительно входа модели\n",
    "        target = batch[-1][:, 1:]\n",
    "        result, _ = series_model(batch)\n",
    "        batch_loss = loss(result, target)\n",
    "        sum_loss += batch_loss\n",
    "        num_batches += 1\n",
    "    sum_loss /= num_batches\n",
    "    writer.add_scalar('Loss/val', sum_loss , epoch)\n",
    "    print(\"Test:\", sum_loss.item(), epoch)\n",
    "    return sum_loss"
   ]
  },
  {
   "cell_type": "code",
   "execution_count": 1530,
   "metadata": {
    "scrolled": false
   },
   "outputs": [
    {
     "name": "stderr",
     "output_type": "stream",
     "text": [
      "Epoch: 0000, Iter Loss: 0.6071: 100%|█████████| 135/135 [00:02<00:00, 56.74it/s]\n",
      "100%|██████████████████████████████████████████| 44/44 [00:00<00:00, 112.94it/s]\n"
     ]
    },
    {
     "name": "stdout",
     "output_type": "stream",
     "text": [
      "Test: 0.6462616324424744 0\n"
     ]
    },
    {
     "name": "stderr",
     "output_type": "stream",
     "text": [
      "Epoch: 0001, Iter Loss: 0.3134: 100%|█████████| 135/135 [00:02<00:00, 66.48it/s]\n",
      "100%|██████████████████████████████████████████| 44/44 [00:00<00:00, 115.45it/s]\n"
     ]
    },
    {
     "name": "stdout",
     "output_type": "stream",
     "text": [
      "Test: 0.3712575137615204 1\n"
     ]
    },
    {
     "name": "stderr",
     "output_type": "stream",
     "text": [
      "Epoch: 0002, Iter Loss: 0.2106: 100%|█████████| 135/135 [00:01<00:00, 70.15it/s]\n",
      "100%|██████████████████████████████████████████| 44/44 [00:00<00:00, 110.26it/s]\n"
     ]
    },
    {
     "name": "stdout",
     "output_type": "stream",
     "text": [
      "Test: 0.24297839403152466 2\n"
     ]
    },
    {
     "name": "stderr",
     "output_type": "stream",
     "text": [
      "Epoch: 0003, Iter Loss: 0.1355: 100%|█████████| 135/135 [00:01<00:00, 68.59it/s]\n",
      "100%|██████████████████████████████████████████| 44/44 [00:00<00:00, 117.43it/s]\n"
     ]
    },
    {
     "name": "stdout",
     "output_type": "stream",
     "text": [
      "Test: 0.2128915637731552 3\n"
     ]
    },
    {
     "name": "stderr",
     "output_type": "stream",
     "text": [
      "Epoch: 0004, Iter Loss: 0.0987: 100%|█████████| 135/135 [00:01<00:00, 69.17it/s]\n",
      "100%|██████████████████████████████████████████| 44/44 [00:00<00:00, 109.27it/s]\n"
     ]
    },
    {
     "name": "stdout",
     "output_type": "stream",
     "text": [
      "Test: 0.2019299417734146 4\n"
     ]
    },
    {
     "name": "stderr",
     "output_type": "stream",
     "text": [
      "Epoch: 0005, Iter Loss: 0.1012: 100%|█████████| 135/135 [00:02<00:00, 67.48it/s]\n",
      "100%|██████████████████████████████████████████| 44/44 [00:00<00:00, 114.37it/s]\n"
     ]
    },
    {
     "name": "stdout",
     "output_type": "stream",
     "text": [
      "Test: 0.19237397611141205 5\n"
     ]
    },
    {
     "name": "stderr",
     "output_type": "stream",
     "text": [
      "Epoch: 0006, Iter Loss: 0.1134: 100%|█████████| 135/135 [00:01<00:00, 69.57it/s]\n",
      "100%|██████████████████████████████████████████| 44/44 [00:00<00:00, 117.47it/s]\n"
     ]
    },
    {
     "name": "stdout",
     "output_type": "stream",
     "text": [
      "Test: 0.1896532028913498 6\n"
     ]
    },
    {
     "name": "stderr",
     "output_type": "stream",
     "text": [
      "Epoch: 0007, Iter Loss: 0.1399: 100%|█████████| 135/135 [00:01<00:00, 68.77it/s]\n",
      "100%|██████████████████████████████████████████| 44/44 [00:00<00:00, 118.96it/s]\n"
     ]
    },
    {
     "name": "stdout",
     "output_type": "stream",
     "text": [
      "Test: 0.18530568480491638 7\n"
     ]
    },
    {
     "name": "stderr",
     "output_type": "stream",
     "text": [
      "Epoch: 0008, Iter Loss: 0.1211: 100%|█████████| 135/135 [00:01<00:00, 71.40it/s]\n",
      "100%|██████████████████████████████████████████| 44/44 [00:00<00:00, 118.76it/s]\n"
     ]
    },
    {
     "name": "stdout",
     "output_type": "stream",
     "text": [
      "Test: 0.1799982786178589 8\n"
     ]
    },
    {
     "name": "stderr",
     "output_type": "stream",
     "text": [
      "Epoch: 0009, Iter Loss: 0.2140: 100%|█████████| 135/135 [00:01<00:00, 71.22it/s]\n",
      "100%|██████████████████████████████████████████| 44/44 [00:00<00:00, 115.62it/s]\n"
     ]
    },
    {
     "name": "stdout",
     "output_type": "stream",
     "text": [
      "Test: 0.17865577340126038 9\n"
     ]
    },
    {
     "name": "stderr",
     "output_type": "stream",
     "text": [
      "Epoch: 0010, Iter Loss: 0.1483: 100%|█████████| 135/135 [00:01<00:00, 71.33it/s]\n",
      "100%|██████████████████████████████████████████| 44/44 [00:00<00:00, 117.45it/s]\n"
     ]
    },
    {
     "name": "stdout",
     "output_type": "stream",
     "text": [
      "Test: 0.17648911476135254 10\n"
     ]
    },
    {
     "name": "stderr",
     "output_type": "stream",
     "text": [
      "Epoch: 0011, Iter Loss: 0.0651: 100%|█████████| 135/135 [00:01<00:00, 70.98it/s]\n",
      "100%|██████████████████████████████████████████| 44/44 [00:00<00:00, 117.15it/s]\n"
     ]
    },
    {
     "name": "stdout",
     "output_type": "stream",
     "text": [
      "Test: 0.17664435505867004 11\n"
     ]
    },
    {
     "name": "stderr",
     "output_type": "stream",
     "text": [
      "Epoch: 0012, Iter Loss: 0.0584: 100%|█████████| 135/135 [00:01<00:00, 72.60it/s]\n",
      "100%|██████████████████████████████████████████| 44/44 [00:00<00:00, 118.35it/s]\n"
     ]
    },
    {
     "name": "stdout",
     "output_type": "stream",
     "text": [
      "Test: 0.1742175817489624 12\n"
     ]
    },
    {
     "name": "stderr",
     "output_type": "stream",
     "text": [
      "Epoch: 0013, Iter Loss: 0.1500: 100%|█████████| 135/135 [00:01<00:00, 71.75it/s]\n",
      "100%|██████████████████████████████████████████| 44/44 [00:00<00:00, 119.87it/s]\n"
     ]
    },
    {
     "name": "stdout",
     "output_type": "stream",
     "text": [
      "Test: 0.1735067516565323 13\n"
     ]
    },
    {
     "name": "stderr",
     "output_type": "stream",
     "text": [
      "Epoch: 0014, Iter Loss: 0.1358: 100%|█████████| 135/135 [00:02<00:00, 66.36it/s]\n",
      "100%|██████████████████████████████████████████| 44/44 [00:00<00:00, 103.00it/s]\n"
     ]
    },
    {
     "name": "stdout",
     "output_type": "stream",
     "text": [
      "Test: 0.17588815093040466 14\n"
     ]
    },
    {
     "name": "stderr",
     "output_type": "stream",
     "text": [
      "Epoch: 0015, Iter Loss: 0.1218: 100%|█████████| 135/135 [00:02<00:00, 63.40it/s]\n",
      "100%|██████████████████████████████████████████| 44/44 [00:00<00:00, 101.63it/s]\n"
     ]
    },
    {
     "name": "stdout",
     "output_type": "stream",
     "text": [
      "Test: 0.17371903359889984 15\n"
     ]
    },
    {
     "name": "stderr",
     "output_type": "stream",
     "text": [
      "Epoch: 0016, Iter Loss: 0.1870: 100%|█████████| 135/135 [00:02<00:00, 64.16it/s]\n",
      "100%|██████████████████████████████████████████| 44/44 [00:00<00:00, 103.17it/s]\n"
     ]
    },
    {
     "name": "stdout",
     "output_type": "stream",
     "text": [
      "Test: 0.17361126840114594 16\n"
     ]
    },
    {
     "name": "stderr",
     "output_type": "stream",
     "text": [
      "Epoch: 0017, Iter Loss: 0.1112: 100%|█████████| 135/135 [00:02<00:00, 63.28it/s]\n",
      "100%|██████████████████████████████████████████| 44/44 [00:00<00:00, 104.04it/s]\n"
     ]
    },
    {
     "name": "stdout",
     "output_type": "stream",
     "text": [
      "Test: 0.17474637925624847 17\n"
     ]
    },
    {
     "name": "stderr",
     "output_type": "stream",
     "text": [
      "Epoch: 0018, Iter Loss: 0.0543: 100%|█████████| 135/135 [00:02<00:00, 64.19it/s]\n",
      "100%|██████████████████████████████████████████| 44/44 [00:00<00:00, 102.05it/s]\n"
     ]
    },
    {
     "name": "stdout",
     "output_type": "stream",
     "text": [
      "Test: 0.17267434298992157 18\n"
     ]
    },
    {
     "name": "stderr",
     "output_type": "stream",
     "text": [
      "Epoch: 0019, Iter Loss: 0.0549: 100%|█████████| 135/135 [00:02<00:00, 62.86it/s]\n",
      "100%|██████████████████████████████████████████| 44/44 [00:00<00:00, 100.56it/s]\n"
     ]
    },
    {
     "name": "stdout",
     "output_type": "stream",
     "text": [
      "Test: 0.17403249442577362 19\n"
     ]
    },
    {
     "name": "stderr",
     "output_type": "stream",
     "text": [
      "Epoch: 0020, Iter Loss: 0.1497: 100%|█████████| 135/135 [00:02<00:00, 63.63it/s]\n",
      "100%|██████████████████████████████████████████| 44/44 [00:00<00:00, 100.91it/s]\n"
     ]
    },
    {
     "name": "stdout",
     "output_type": "stream",
     "text": [
      "Test: 0.17481407523155212 20\n"
     ]
    },
    {
     "name": "stderr",
     "output_type": "stream",
     "text": [
      "Epoch: 0021, Iter Loss: 0.0972: 100%|█████████| 135/135 [00:02<00:00, 63.26it/s]\n",
      "100%|██████████████████████████████████████████| 44/44 [00:00<00:00, 104.79it/s]\n"
     ]
    },
    {
     "name": "stdout",
     "output_type": "stream",
     "text": [
      "Test: 0.17382477223873138 21\n"
     ]
    },
    {
     "name": "stderr",
     "output_type": "stream",
     "text": [
      "Epoch: 0022, Iter Loss: 0.0637: 100%|█████████| 135/135 [00:02<00:00, 64.89it/s]\n",
      "100%|██████████████████████████████████████████| 44/44 [00:00<00:00, 102.48it/s]\n"
     ]
    },
    {
     "name": "stdout",
     "output_type": "stream",
     "text": [
      "Test: 0.17455996572971344 22\n"
     ]
    },
    {
     "name": "stderr",
     "output_type": "stream",
     "text": [
      "Epoch: 0023, Iter Loss: 0.1177: 100%|█████████| 135/135 [00:02<00:00, 64.38it/s]\n",
      "100%|██████████████████████████████████████████| 44/44 [00:00<00:00, 103.21it/s]\n"
     ]
    },
    {
     "name": "stdout",
     "output_type": "stream",
     "text": [
      "Test: 0.17378662526607513 23\n"
     ]
    },
    {
     "name": "stderr",
     "output_type": "stream",
     "text": [
      "Epoch: 0024, Iter Loss: 0.1601: 100%|█████████| 135/135 [00:02<00:00, 64.65it/s]\n",
      "100%|██████████████████████████████████████████| 44/44 [00:00<00:00, 105.01it/s]"
     ]
    },
    {
     "name": "stdout",
     "output_type": "stream",
     "text": [
      "Test: 0.17505021393299103 24\n"
     ]
    },
    {
     "name": "stderr",
     "output_type": "stream",
     "text": [
      "\n"
     ]
    }
   ],
   "source": [
    "# модель обучаем в режиме teacher forcing, т.е. на вход подаем сразу всю последовательность,\n",
    "# на выходе таргет должен быть смещен на один временной шаг, чтобы правильно считался лосс\n",
    "\n",
    "for epoch in range(0, 25):\n",
    "    epoch_iter = tqdm(dl_train)\n",
    "    series_model.train()\n",
    "    for batch in epoch_iter:\n",
    "        optimizer.zero_grad()\n",
    "        # Чтобы сохранялась временная зависимость\n",
    "        # для предсказания таргет должен быть смешен на один временной шаг\n",
    "        # относительно входа модели\n",
    "        #print(batch[0].size())\n",
    "        # batch.size() : 4 (day, month, year, target) x batch_sz x seg_len\n",
    "        #import sys\n",
    "        #sys.exit()\n",
    "        target = batch[-1][:,1:] # Берем все значения, начиная  с 1\n",
    "        result, hidden = series_model(batch)\n",
    "        batch_loss = loss(result, target)\n",
    "        batch_loss.backward()\n",
    "        epoch_iter.set_description(\"Epoch: %04d, Iter Loss: %.4f\"  %(epoch, batch_loss))\n",
    "        writer.add_scalar('Loss/train', batch_loss , global_iter)\n",
    "        global_iter += 1\n",
    "        optimizer.step()\n",
    "    scheduler.step()\n",
    "    with torch.no_grad():\n",
    "        series_model.eval()\n",
    "        test_model(global_epoch)\n",
    "    global_epoch += 1"
   ]
  },
  {
   "cell_type": "code",
   "execution_count": 1531,
   "metadata": {
    "id": "iuhFpuvSuBnu"
   },
   "outputs": [],
   "source": [
    "# сохраняем модель\n",
    "torch.save(series_model.state_dict(), 'series_model2.ptx')"
   ]
  },
  {
   "cell_type": "code",
   "execution_count": 1532,
   "metadata": {
    "id": "W2XwivAPuBnu",
    "outputId": "35fceed1-259b-4d80-b366-276059593a3b"
   },
   "outputs": [
    {
     "name": "stderr",
     "output_type": "stream",
     "text": [
      "/home/fedor/.local/lib/python3.8/site-packages/torch/nn/modules/rnn.py:62: UserWarning: dropout option adds dropout after all but last recurrent layer, so non-zero dropout expects num_layers greater than 1, but got dropout=0.3 and num_layers=1\n",
      "  warnings.warn(\"dropout option adds dropout after all but last \"\n"
     ]
    },
    {
     "data": {
      "text/plain": [
       "<All keys matched successfully>"
      ]
     },
     "execution_count": 1532,
     "metadata": {},
     "output_type": "execute_result"
    }
   ],
   "source": [
    "# восстанавливаем модель\n",
    "series_model = TimeSeriesModel(hidden_size, emb_size)\n",
    "series_model.load_state_dict(torch.load('series_model2.ptx'))"
   ]
  },
  {
   "cell_type": "code",
   "execution_count": 1533,
   "metadata": {},
   "outputs": [],
   "source": [
    "#!tensorboard --logdir=rnn_hw"
   ]
  },
  {
   "attachments": {},
   "cell_type": "markdown",
   "metadata": {
    "id": "w7zyXH01uBnu"
   },
   "source": [
    "### TODO\n",
    "Теперь нам нужно для нашего тестового сета сгенерировать результат, и сделать правильный сабмишен. В отличии от режима обучения мы не должгны использовать значения таргетов в тесте, поэтому нам придется тут реализовывать инкрементальный режим генерации сети, т.е. когда на вход подаются фичи и таргет с предыдущего шага на каждоим шаге генерации."
   ]
  },
  {
   "cell_type": "code",
   "execution_count": 1534,
   "metadata": {},
   "outputs": [],
   "source": [
    "# новые даталоадеры НЕ перемешанные\n",
    "new_ds_train = TSDataset(data_train, 1) \n",
    "new_ds_test  = TSDataset(data_test, 1)\n",
    "new_dl_train = DataLoader(new_ds_train, 1 , False)\n",
    "new_dl_test = DataLoader(new_ds_test, 1, False)"
   ]
  },
  {
   "cell_type": "code",
   "execution_count": 1535,
   "metadata": {},
   "outputs": [],
   "source": [
    "# Уже с предобученной моделью - посчитаем h, c за все предыдущие года\n",
    "h = torch.zeros(1, 1, hidden_size)\n",
    "c = torch.zeros(1, 1, hidden_size)\n",
    "hidden = (h, c)\n",
    "ole = []\n",
    "with torch.no_grad():\n",
    "    series_model.eval()\n",
    "    for batch in new_dl_train:\n",
    "        result, hidden = series_model(batch, hidden) # Накапливаем память о последовательности\n",
    "        ole.append(result.item())\n",
    "last_res = result\n",
    "results = []\n",
    "\n",
    "with torch.no_grad():\n",
    "    series_model.eval()\n",
    "    for batch in new_dl_test:\n",
    "        batch[3][0] = last_res\n",
    "        results.append(last_res.item())\n",
    "        last_res, hidden = series_model(batch, hidden)\n",
    "results = np.array(results)"
   ]
  },
  {
   "cell_type": "code",
   "execution_count": 1536,
   "metadata": {},
   "outputs": [
    {
     "data": {
      "text/plain": [
       "[<matplotlib.lines.Line2D at 0x7f9818df4c10>]"
      ]
     },
     "execution_count": 1536,
     "metadata": {},
     "output_type": "execute_result"
    },
    {
     "data": {
      "image/png": "[encoded data removed]",
      "text/plain": [
       "<Figure size 432x288 with 1 Axes>"
      ]
     },
     "metadata": {
      "needs_background": "light"
     },
     "output_type": "display_data"
    }
   ],
   "source": [
    "plt.plot(results)"
   ]
  },
  {
   "cell_type": "code",
   "execution_count": 1537,
   "metadata": {},
   "outputs": [],
   "source": [
    "results = results * stats.std.value + stats.mean.value"
   ]
  },
  {
   "cell_type": "code",
   "execution_count": 1538,
   "metadata": {},
   "outputs": [],
   "source": [
    "prediction = pd.DataFrame(results, data_test.index)\n",
    "prediction = prediction.rename(columns = {0:'value'})"
   ]
  },
  {
   "cell_type": "code",
   "execution_count": 1539,
   "metadata": {
    "scrolled": true
   },
   "outputs": [
    {
     "data": {
      "image/png": "[encoded data removed]",
      "text/plain": [
       "<Figure size 432x288 with 1 Axes>"
      ]
     },
     "metadata": {
      "needs_background": "light"
     },
     "output_type": "display_data"
    }
   ],
   "source": [
    "plt.figure()\n",
    "data_train['value'].plot(kind = 'line')\n",
    "data_test['value'].plot(kind = 'line')\n",
    "#plt.plot(data_forecaste, label = \"Prediction\")\n",
    "prediction['value'].plot()\n",
    "plt.show()"
   ]
  },
  {
   "cell_type": "code",
   "execution_count": 1540,
   "metadata": {},
   "outputs": [
    {
     "data": {
      "text/plain": [
       "10.39724253517867"
      ]
     },
     "execution_count": 1540,
     "metadata": {},
     "output_type": "execute_result"
    }
   ],
   "source": [
    "MAPE(data_test, prediction)"
   ]
  },
  {
   "cell_type": "code",
   "execution_count": 1541,
   "metadata": {},
   "outputs": [
    {
     "data": {
      "text/plain": [
       "10.39724253517867"
      ]
     },
     "execution_count": 1541,
     "metadata": {},
     "output_type": "execute_result"
    }
   ],
   "source": [
    "MAPE(data_test, prediction)"
   ]
  },
  {
   "cell_type": "code",
   "execution_count": 1542,
   "metadata": {},
   "outputs": [
    {
     "data": {
      "text/html": [
       "<div>\n",
       "<style scoped>\n",
       "    .dataframe tbody tr th:only-of-type {\n",
       "        vertical-align: middle;\n",
       "    }\n",
       "\n",
       "    .dataframe tbody tr th {\n",
       "        vertical-align: top;\n",
       "    }\n",
       "\n",
       "    .dataframe thead th {\n",
       "        text-align: right;\n",
       "    }\n",
       "</style>\n",
       "<table border=\"1\" class=\"dataframe\">\n",
       "  <thead>\n",
       "    <tr style=\"text-align: right;\">\n",
       "      <th></th>\n",
       "      <th>hits</th>\n",
       "    </tr>\n",
       "    <tr>\n",
       "      <th>date</th>\n",
       "      <th></th>\n",
       "    </tr>\n",
       "  </thead>\n",
       "  <tbody>\n",
       "    <tr>\n",
       "      <th>2019-01-01</th>\n",
       "      <td>1.670498e+08</td>\n",
       "    </tr>\n",
       "    <tr>\n",
       "      <th>2019-01-02</th>\n",
       "      <td>1.604147e+08</td>\n",
       "    </tr>\n",
       "    <tr>\n",
       "      <th>2019-01-03</th>\n",
       "      <td>1.707073e+08</td>\n",
       "    </tr>\n",
       "    <tr>\n",
       "      <th>2019-01-04</th>\n",
       "      <td>1.754112e+08</td>\n",
       "    </tr>\n",
       "    <tr>\n",
       "      <th>2019-01-05</th>\n",
       "      <td>1.151366e+08</td>\n",
       "    </tr>\n",
       "    <tr>\n",
       "      <th>...</th>\n",
       "      <td>...</td>\n",
       "    </tr>\n",
       "    <tr>\n",
       "      <th>2019-12-27</th>\n",
       "      <td>2.386314e+08</td>\n",
       "    </tr>\n",
       "    <tr>\n",
       "      <th>2019-12-28</th>\n",
       "      <td>1.452579e+08</td>\n",
       "    </tr>\n",
       "    <tr>\n",
       "      <th>2019-12-29</th>\n",
       "      <td>1.514651e+08</td>\n",
       "    </tr>\n",
       "    <tr>\n",
       "      <th>2019-12-30</th>\n",
       "      <td>2.687624e+08</td>\n",
       "    </tr>\n",
       "    <tr>\n",
       "      <th>2019-12-31</th>\n",
       "      <td>2.595067e+08</td>\n",
       "    </tr>\n",
       "  </tbody>\n",
       "</table>\n",
       "<p>365 rows × 1 columns</p>\n",
       "</div>"
      ],
      "text/plain": [
       "                    hits\n",
       "date                    \n",
       "2019-01-01  1.670498e+08\n",
       "2019-01-02  1.604147e+08\n",
       "2019-01-03  1.707073e+08\n",
       "2019-01-04  1.754112e+08\n",
       "2019-01-05  1.151366e+08\n",
       "...                  ...\n",
       "2019-12-27  2.386314e+08\n",
       "2019-12-28  1.452579e+08\n",
       "2019-12-29  1.514651e+08\n",
       "2019-12-30  2.687624e+08\n",
       "2019-12-31  2.595067e+08\n",
       "\n",
       "[365 rows x 1 columns]"
      ]
     },
     "execution_count": 1542,
     "metadata": {},
     "output_type": "execute_result"
    }
   ],
   "source": [
    "prediction = prediction.rename(columns = {\"value\" :'hits'})\n",
    "prediction"
   ]
  },
  {
   "cell_type": "code",
   "execution_count": 1543,
   "metadata": {},
   "outputs": [],
   "source": [
    "prediction.to_csv(\"submission.csv\")"
   ]
  },
  {
   "cell_type": "code",
   "execution_count": null,
   "metadata": {},
   "outputs": [],
   "source": []
  }
 ],
 "metadata": {
  "colab": {
   "provenance": []
  },
  "kernelspec": {
   "display_name": "Python 3 (ipykernel)",
   "language": "python",
   "name": "python3"
  },
  "language_info": {
   "codemirror_mode": {
    "name": "ipython",
    "version": 3
   },
   "file_extension": ".py",
   "mimetype": "text/x-python",
   "name": "python",
   "nbconvert_exporter": "python",
   "pygments_lexer": "ipython3",
   "version": "3.8.10"
  }
 },
 "nbformat": 4,
 "nbformat_minor": 4
}
